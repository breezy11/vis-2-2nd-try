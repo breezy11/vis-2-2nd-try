{
 "cells": [
  {
   "cell_type": "code",
   "execution_count": 1,
   "id": "initial_id",
   "metadata": {
    "collapsed": true,
    "ExecuteTime": {
     "end_time": "2024-01-10T13:36:26.349038800Z",
     "start_time": "2024-01-10T13:36:19.865646800Z"
    }
   },
   "outputs": [],
   "source": [
    "import pandas as pd\n",
    "import math\n",
    "import time\n",
    "from fs_functions import *\n",
    "from sklearn.preprocessing import LabelEncoder\n",
    "\n",
    "label_encoder = LabelEncoder()"
   ]
  },
  {
   "cell_type": "code",
   "outputs": [],
   "source": [
    "with open('results/seeds/FS3_results_seeds_cols.json', 'r') as json_file:\n",
    "    seeds_dict = json.load(json_file)\n",
    "seeds = pd.read_csv(\"data/seeds/seeds.csv\", index_col=0)\n",
    "seeds_target_class = 'class'"
   ],
   "metadata": {
    "collapsed": false,
    "ExecuteTime": {
     "end_time": "2024-01-09T17:44:31.897308900Z",
     "start_time": "2024-01-09T17:44:31.780156600Z"
    }
   },
   "id": "75bae394cbff9381",
   "execution_count": 4
  },
  {
   "cell_type": "code",
   "outputs": [],
   "source": [
    "tds_values_list = [item['tds'] for item in seeds_dict.values()]\n",
    "tds_values_list = sorted(list(set(tds_values_list)))"
   ],
   "metadata": {
    "collapsed": false,
    "ExecuteTime": {
     "end_time": "2024-01-09T17:44:32.149604600Z",
     "start_time": "2024-01-09T17:44:32.143835800Z"
    }
   },
   "id": "80e24cf997cb1863",
   "execution_count": 5
  },
  {
   "cell_type": "code",
   "outputs": [],
   "source": [
    "tds_score = tds_values_list[0]\n",
    "\n",
    "for key, value in seeds_dict.items():\n",
    "    if value.get('tds') == tds_score:\n",
    "        ordering = value.get('columns_order')\n",
    "        break"
   ],
   "metadata": {
    "collapsed": false,
    "ExecuteTime": {
     "end_time": "2024-01-09T17:44:59.241706700Z",
     "start_time": "2024-01-09T17:44:59.228416600Z"
    }
   },
   "id": "3951a6ff653e679d",
   "execution_count": 7
  },
  {
   "cell_type": "code",
   "outputs": [
    {
     "data": {
      "text/plain": "['asymmetry_coeff',\n 'perimeter',\n 'area',\n 'width_kernel',\n 'compactness',\n 'length_kernel',\n 'length_groove']"
     },
     "execution_count": 8,
     "metadata": {},
     "output_type": "execute_result"
    }
   ],
   "source": [
    "ordering"
   ],
   "metadata": {
    "collapsed": false,
    "ExecuteTime": {
     "end_time": "2024-01-09T17:45:01.968154700Z",
     "start_time": "2024-01-09T17:45:01.954882900Z"
    }
   },
   "id": "af120b75d43dd938",
   "execution_count": 8
  },
  {
   "cell_type": "code",
   "outputs": [],
   "source": [
    "df = seeds\n",
    "target = 'class'"
   ],
   "metadata": {
    "collapsed": false,
    "ExecuteTime": {
     "end_time": "2024-01-09T17:46:13.309305400Z",
     "start_time": "2024-01-09T17:46:13.302256200Z"
    }
   },
   "id": "974fb8d4ed1ba052",
   "execution_count": 11
  },
  {
   "cell_type": "code",
   "outputs": [
    {
     "data": {
      "text/plain": "1"
     },
     "execution_count": 14,
     "metadata": {},
     "output_type": "execute_result"
    }
   ],
   "source": [
    "df[target].unique()[0]"
   ],
   "metadata": {
    "collapsed": false,
    "ExecuteTime": {
     "end_time": "2024-01-09T17:46:32.719022400Z",
     "start_time": "2024-01-09T17:46:32.712691800Z"
    }
   },
   "id": "1e42af4c6b814679",
   "execution_count": 14
  },
  {
   "cell_type": "code",
   "outputs": [],
   "source": [
    "df_subset = df[df[target] == 1]"
   ],
   "metadata": {
    "collapsed": false,
    "ExecuteTime": {
     "end_time": "2024-01-09T17:46:35.706962600Z",
     "start_time": "2024-01-09T17:46:35.702596200Z"
    }
   },
   "id": "9ea5433b6593faea",
   "execution_count": 15
  },
  {
   "cell_type": "code",
   "outputs": [
    {
     "data": {
      "text/plain": "     area  perimeter  compactness  length_kernel  width_kernel  \\\n0   15.26      14.84       0.8710          5.763         3.312   \n1   14.88      14.57       0.8811          5.554         3.333   \n2   14.29      14.09       0.9050          5.291         3.337   \n3   13.84      13.94       0.8955          5.324         3.379   \n4   16.14      14.99       0.9034          5.658         3.562   \n..    ...        ...          ...            ...           ...   \n65  12.88      13.50       0.8879          5.139         3.119   \n66  14.34      14.37       0.8726          5.630         3.190   \n67  14.01      14.29       0.8625          5.609         3.158   \n68  14.37      14.39       0.8726          5.569         3.153   \n69  12.73      13.75       0.8458          5.412         2.882   \n\n    asymmetry_coeff  length_groove  class  \n0             2.221          5.220      1  \n1             1.018          4.956      1  \n2             2.699          4.825      1  \n3             2.259          4.805      1  \n4             1.355          5.175      1  \n..              ...            ...    ...  \n65            2.352          4.607      1  \n66            1.313          5.150      1  \n67            2.217          5.132      1  \n68            1.464          5.300      1  \n69            3.533          5.067      1  \n\n[70 rows x 8 columns]",
      "text/html": "<div>\n<style scoped>\n    .dataframe tbody tr th:only-of-type {\n        vertical-align: middle;\n    }\n\n    .dataframe tbody tr th {\n        vertical-align: top;\n    }\n\n    .dataframe thead th {\n        text-align: right;\n    }\n</style>\n<table border=\"1\" class=\"dataframe\">\n  <thead>\n    <tr style=\"text-align: right;\">\n      <th></th>\n      <th>area</th>\n      <th>perimeter</th>\n      <th>compactness</th>\n      <th>length_kernel</th>\n      <th>width_kernel</th>\n      <th>asymmetry_coeff</th>\n      <th>length_groove</th>\n      <th>class</th>\n    </tr>\n  </thead>\n  <tbody>\n    <tr>\n      <th>0</th>\n      <td>15.26</td>\n      <td>14.84</td>\n      <td>0.8710</td>\n      <td>5.763</td>\n      <td>3.312</td>\n      <td>2.221</td>\n      <td>5.220</td>\n      <td>1</td>\n    </tr>\n    <tr>\n      <th>1</th>\n      <td>14.88</td>\n      <td>14.57</td>\n      <td>0.8811</td>\n      <td>5.554</td>\n      <td>3.333</td>\n      <td>1.018</td>\n      <td>4.956</td>\n      <td>1</td>\n    </tr>\n    <tr>\n      <th>2</th>\n      <td>14.29</td>\n      <td>14.09</td>\n      <td>0.9050</td>\n      <td>5.291</td>\n      <td>3.337</td>\n      <td>2.699</td>\n      <td>4.825</td>\n      <td>1</td>\n    </tr>\n    <tr>\n      <th>3</th>\n      <td>13.84</td>\n      <td>13.94</td>\n      <td>0.8955</td>\n      <td>5.324</td>\n      <td>3.379</td>\n      <td>2.259</td>\n      <td>4.805</td>\n      <td>1</td>\n    </tr>\n    <tr>\n      <th>4</th>\n      <td>16.14</td>\n      <td>14.99</td>\n      <td>0.9034</td>\n      <td>5.658</td>\n      <td>3.562</td>\n      <td>1.355</td>\n      <td>5.175</td>\n      <td>1</td>\n    </tr>\n    <tr>\n      <th>...</th>\n      <td>...</td>\n      <td>...</td>\n      <td>...</td>\n      <td>...</td>\n      <td>...</td>\n      <td>...</td>\n      <td>...</td>\n      <td>...</td>\n    </tr>\n    <tr>\n      <th>65</th>\n      <td>12.88</td>\n      <td>13.50</td>\n      <td>0.8879</td>\n      <td>5.139</td>\n      <td>3.119</td>\n      <td>2.352</td>\n      <td>4.607</td>\n      <td>1</td>\n    </tr>\n    <tr>\n      <th>66</th>\n      <td>14.34</td>\n      <td>14.37</td>\n      <td>0.8726</td>\n      <td>5.630</td>\n      <td>3.190</td>\n      <td>1.313</td>\n      <td>5.150</td>\n      <td>1</td>\n    </tr>\n    <tr>\n      <th>67</th>\n      <td>14.01</td>\n      <td>14.29</td>\n      <td>0.8625</td>\n      <td>5.609</td>\n      <td>3.158</td>\n      <td>2.217</td>\n      <td>5.132</td>\n      <td>1</td>\n    </tr>\n    <tr>\n      <th>68</th>\n      <td>14.37</td>\n      <td>14.39</td>\n      <td>0.8726</td>\n      <td>5.569</td>\n      <td>3.153</td>\n      <td>1.464</td>\n      <td>5.300</td>\n      <td>1</td>\n    </tr>\n    <tr>\n      <th>69</th>\n      <td>12.73</td>\n      <td>13.75</td>\n      <td>0.8458</td>\n      <td>5.412</td>\n      <td>2.882</td>\n      <td>3.533</td>\n      <td>5.067</td>\n      <td>1</td>\n    </tr>\n  </tbody>\n</table>\n<p>70 rows × 8 columns</p>\n</div>"
     },
     "execution_count": 16,
     "metadata": {},
     "output_type": "execute_result"
    }
   ],
   "source": [
    "df_subset"
   ],
   "metadata": {
    "collapsed": false,
    "ExecuteTime": {
     "end_time": "2024-01-09T17:46:37.606588500Z",
     "start_time": "2024-01-09T17:46:37.580112300Z"
    }
   },
   "id": "3ad3de7aa380c83d",
   "execution_count": 16
  },
  {
   "cell_type": "code",
   "outputs": [
    {
     "data": {
      "text/plain": "['asymmetry_coeff',\n 'perimeter',\n 'area',\n 'width_kernel',\n 'compactness',\n 'length_kernel',\n 'length_groove']"
     },
     "execution_count": 17,
     "metadata": {},
     "output_type": "execute_result"
    }
   ],
   "source": [
    "ordering"
   ],
   "metadata": {
    "collapsed": false,
    "ExecuteTime": {
     "end_time": "2024-01-09T17:46:44.159535100Z",
     "start_time": "2024-01-09T17:46:44.152562500Z"
    }
   },
   "id": "794c48d1bde92ee3",
   "execution_count": 17
  },
  {
   "cell_type": "code",
   "outputs": [],
   "source": [
    "ordering.append('class')"
   ],
   "metadata": {
    "collapsed": false,
    "ExecuteTime": {
     "end_time": "2024-01-09T17:50:58.999723700Z",
     "start_time": "2024-01-09T17:50:58.993703200Z"
    }
   },
   "id": "f32036e276913fcb",
   "execution_count": 19
  },
  {
   "cell_type": "code",
   "outputs": [
    {
     "data": {
      "text/plain": "    asymmetry_coeff  perimeter   area  width_kernel  compactness  \\\n0             2.221      14.84  15.26         3.312       0.8710   \n1             1.018      14.57  14.88         3.333       0.8811   \n2             2.699      14.09  14.29         3.337       0.9050   \n3             2.259      13.94  13.84         3.379       0.8955   \n4             1.355      14.99  16.14         3.562       0.9034   \n..              ...        ...    ...           ...          ...   \n65            2.352      13.50  12.88         3.119       0.8879   \n66            1.313      14.37  14.34         3.190       0.8726   \n67            2.217      14.29  14.01         3.158       0.8625   \n68            1.464      14.39  14.37         3.153       0.8726   \n69            3.533      13.75  12.73         2.882       0.8458   \n\n    length_kernel  length_groove  class  \n0           5.763          5.220      1  \n1           5.554          4.956      1  \n2           5.291          4.825      1  \n3           5.324          4.805      1  \n4           5.658          5.175      1  \n..            ...            ...    ...  \n65          5.139          4.607      1  \n66          5.630          5.150      1  \n67          5.609          5.132      1  \n68          5.569          5.300      1  \n69          5.412          5.067      1  \n\n[70 rows x 8 columns]",
      "text/html": "<div>\n<style scoped>\n    .dataframe tbody tr th:only-of-type {\n        vertical-align: middle;\n    }\n\n    .dataframe tbody tr th {\n        vertical-align: top;\n    }\n\n    .dataframe thead th {\n        text-align: right;\n    }\n</style>\n<table border=\"1\" class=\"dataframe\">\n  <thead>\n    <tr style=\"text-align: right;\">\n      <th></th>\n      <th>asymmetry_coeff</th>\n      <th>perimeter</th>\n      <th>area</th>\n      <th>width_kernel</th>\n      <th>compactness</th>\n      <th>length_kernel</th>\n      <th>length_groove</th>\n      <th>class</th>\n    </tr>\n  </thead>\n  <tbody>\n    <tr>\n      <th>0</th>\n      <td>2.221</td>\n      <td>14.84</td>\n      <td>15.26</td>\n      <td>3.312</td>\n      <td>0.8710</td>\n      <td>5.763</td>\n      <td>5.220</td>\n      <td>1</td>\n    </tr>\n    <tr>\n      <th>1</th>\n      <td>1.018</td>\n      <td>14.57</td>\n      <td>14.88</td>\n      <td>3.333</td>\n      <td>0.8811</td>\n      <td>5.554</td>\n      <td>4.956</td>\n      <td>1</td>\n    </tr>\n    <tr>\n      <th>2</th>\n      <td>2.699</td>\n      <td>14.09</td>\n      <td>14.29</td>\n      <td>3.337</td>\n      <td>0.9050</td>\n      <td>5.291</td>\n      <td>4.825</td>\n      <td>1</td>\n    </tr>\n    <tr>\n      <th>3</th>\n      <td>2.259</td>\n      <td>13.94</td>\n      <td>13.84</td>\n      <td>3.379</td>\n      <td>0.8955</td>\n      <td>5.324</td>\n      <td>4.805</td>\n      <td>1</td>\n    </tr>\n    <tr>\n      <th>4</th>\n      <td>1.355</td>\n      <td>14.99</td>\n      <td>16.14</td>\n      <td>3.562</td>\n      <td>0.9034</td>\n      <td>5.658</td>\n      <td>5.175</td>\n      <td>1</td>\n    </tr>\n    <tr>\n      <th>...</th>\n      <td>...</td>\n      <td>...</td>\n      <td>...</td>\n      <td>...</td>\n      <td>...</td>\n      <td>...</td>\n      <td>...</td>\n      <td>...</td>\n    </tr>\n    <tr>\n      <th>65</th>\n      <td>2.352</td>\n      <td>13.50</td>\n      <td>12.88</td>\n      <td>3.119</td>\n      <td>0.8879</td>\n      <td>5.139</td>\n      <td>4.607</td>\n      <td>1</td>\n    </tr>\n    <tr>\n      <th>66</th>\n      <td>1.313</td>\n      <td>14.37</td>\n      <td>14.34</td>\n      <td>3.190</td>\n      <td>0.8726</td>\n      <td>5.630</td>\n      <td>5.150</td>\n      <td>1</td>\n    </tr>\n    <tr>\n      <th>67</th>\n      <td>2.217</td>\n      <td>14.29</td>\n      <td>14.01</td>\n      <td>3.158</td>\n      <td>0.8625</td>\n      <td>5.609</td>\n      <td>5.132</td>\n      <td>1</td>\n    </tr>\n    <tr>\n      <th>68</th>\n      <td>1.464</td>\n      <td>14.39</td>\n      <td>14.37</td>\n      <td>3.153</td>\n      <td>0.8726</td>\n      <td>5.569</td>\n      <td>5.300</td>\n      <td>1</td>\n    </tr>\n    <tr>\n      <th>69</th>\n      <td>3.533</td>\n      <td>13.75</td>\n      <td>12.73</td>\n      <td>2.882</td>\n      <td>0.8458</td>\n      <td>5.412</td>\n      <td>5.067</td>\n      <td>1</td>\n    </tr>\n  </tbody>\n</table>\n<p>70 rows × 8 columns</p>\n</div>"
     },
     "execution_count": 20,
     "metadata": {},
     "output_type": "execute_result"
    }
   ],
   "source": [
    "df_subset[ordering]"
   ],
   "metadata": {
    "collapsed": false,
    "ExecuteTime": {
     "end_time": "2024-01-09T17:51:00.316138900Z",
     "start_time": "2024-01-09T17:51:00.277963900Z"
    }
   },
   "id": "6685653d9a724555",
   "execution_count": 20
  },
  {
   "cell_type": "code",
   "outputs": [],
   "source": [
    "from pandas.plotting import parallel_coordinates"
   ],
   "metadata": {
    "collapsed": false,
    "ExecuteTime": {
     "end_time": "2024-01-09T17:54:23.996950900Z",
     "start_time": "2024-01-09T17:54:23.967960Z"
    }
   },
   "id": "3a47236af1c907a7",
   "execution_count": 21
  },
  {
   "cell_type": "code",
   "outputs": [
    {
     "data": {
      "text/plain": "<Axes: >"
     },
     "execution_count": 22,
     "metadata": {},
     "output_type": "execute_result"
    },
    {
     "data": {
      "text/plain": "<Figure size 1000x500 with 1 Axes>",
      "image/png": "[encoded data removed]"
     },
     "metadata": {},
     "output_type": "display_data"
    }
   ],
   "source": [
    "fig = plt.figure(figsize=(10, 5))\n",
    "parallel_coordinates(df_subset, class_column=target)"
   ],
   "metadata": {
    "collapsed": false,
    "ExecuteTime": {
     "end_time": "2024-01-09T17:54:24.631182Z",
     "start_time": "2024-01-09T17:54:24.324856700Z"
    }
   },
   "id": "4181e86bd099227c",
   "execution_count": 22
  },
  {
   "cell_type": "code",
   "outputs": [],
   "source": [
    "df_subset = df_subset[ordering]\n"
   ],
   "metadata": {
    "collapsed": false
   },
   "id": "c699570f1e2cb96b"
  },
  {
   "cell_type": "code",
   "outputs": [],
   "source": [
    "df_subset = df[df[target] == _class]\n",
    "df_subset = df_subset[ordering]"
   ],
   "metadata": {
    "collapsed": false
   },
   "id": "c1482f4fa273ca34"
  },
  {
   "cell_type": "code",
   "outputs": [],
   "source": [],
   "metadata": {
    "collapsed": false
   },
   "id": "aa54076a9a450bb2"
  },
  {
   "cell_type": "code",
   "outputs": [],
   "source": [
    "datasets = []\n",
    "\n",
    "cars = pd.read_csv('data/cars/cars.csv', index_col=0)\n",
    "cars_year = pd.read_csv('data/cars_year/cars_year.csv', index_col=0)\n",
    "ecoli = pd.read_csv('data/ecoli/ecoli.csv', index_col=0)\n",
    "glass = pd.read_csv('data/glass/glass.csv', index_col=0)\n",
    "iris = pd.read_csv('data/iris/iris.csv', index_col=0)\n",
    "seeds = pd.read_csv('data/seeds/seeds.csv', index_col=0)\n",
    "wine = pd.read_csv('data/wine/wine.csv', index_col=0)\n",
    "\n",
    "iris['class'] = label_encoder.fit_transform(iris['class'])\n",
    "ecoli['class'] = label_encoder.fit_transform(ecoli['class'])\n",
    "\n",
    "datasets = [cars, cars_year, ecoli, glass, iris, seeds, wine]\n",
    "datasets_name = ['cars', 'cars_year', 'ecoli', 'glass', 'iris', 'seeds', 'wine']\n",
    "target_classes = ['origin', 'model year', 'class', 'Type of glass', 'class', 'class', 'class']"
   ],
   "metadata": {
    "collapsed": false,
    "ExecuteTime": {
     "end_time": "2024-01-05T16:53:30.081654300Z",
     "start_time": "2024-01-05T16:53:30.059854800Z"
    }
   },
   "id": "2e59a704c72290b6",
   "execution_count": 2
  },
  {
   "cell_type": "code",
   "outputs": [
    {
     "name": "stdout",
     "output_type": "stream",
     "text": [
      "Dataset: cars, Columns: 7, Classes: 3, Calculations: 15,120\n",
      "Dataset: cars_year, Columns: 7, Classes: 13, Calculations: 65,520\n",
      "Dataset: ecoli, Columns: 8, Classes: 8, Calculations: 322,560\n",
      "Dataset: glass, Columns: 9, Classes: 6, Calculations: 2,177,280\n",
      "Dataset: iris, Columns: 4, Classes: 3, Calculations: 72\n",
      "Dataset: seeds, Columns: 7, Classes: 3, Calculations: 15,120\n",
      "Dataset: wine, Columns: 13, Classes: 3, Calculations: 18,681,062,400\n",
      "Total calculations:  18,683,658,072\n"
     ]
    }
   ],
   "source": [
    "calculations = 0\n",
    "\n",
    "for i in range(len(datasets)):\n",
    "    df = datasets[i]\n",
    "    target_class = target_classes[i]\n",
    "    \n",
    "    how_many = (math.factorial(df.shape[1] - 1) * df[target_class].nunique()) \n",
    "    how_many_formatted = '{:,}'.format(how_many)\n",
    "    print(f'Dataset: {datasets_name[i]}, Columns: {df.shape[1] - 1}, Classes: {df[target_class].nunique()}, Calculations: {how_many_formatted}')\n",
    "    \n",
    "    calculations += how_many\n",
    "    \n",
    "print('Total calculations: ', '{:,}'.format(calculations))"
   ],
   "metadata": {
    "collapsed": false,
    "ExecuteTime": {
     "end_time": "2024-01-05T16:53:30.094115300Z",
     "start_time": "2024-01-05T16:53:30.084711300Z"
    }
   },
   "id": "4e11c621fb568180",
   "execution_count": 3
  },
  {
   "cell_type": "markdown",
   "source": [
    "### After kicking out the wine dataset"
   ],
   "metadata": {
    "collapsed": false
   },
   "id": "156b8416ee16672d"
  },
  {
   "cell_type": "code",
   "outputs": [],
   "source": [
    "datasets = [cars, cars_year, ecoli, glass, iris, seeds]\n",
    "datasets_name = ['cars', 'cars_year', 'ecoli', 'glass', 'iris', 'seeds']\n",
    "target_classes = ['origin', 'model year', 'class', 'Type of glass', 'class', 'class']\n",
    "fs_used = ['FS1', 'FS1', 'FS2', 'FS2', 'FS3', 'FS3']"
   ],
   "metadata": {
    "collapsed": false
   },
   "id": "988704cabd010444",
   "execution_count": null
  },
  {
   "cell_type": "code",
   "outputs": [],
   "source": [
    "calculations = 0\n",
    "\n",
    "for i in range(len(datasets)):\n",
    "    df = datasets[i]\n",
    "    target_class = target_classes[i]\n",
    "    \n",
    "    how_many = (math.factorial(df.shape[1] - 1) * df[target_class].nunique()) \n",
    "    how_many_formatted = '{:,}'.format(how_many)\n",
    "    print(f'Dataset: {datasets_name[i]}, Columns: {df.shape[1] - 1}, Classes: {df[target_class].nunique()}, Calculations: {how_many_formatted}')\n",
    "    \n",
    "    calculations += how_many\n",
    "    \n",
    "print('Total calculations: ', '{:,}'.format(calculations))"
   ],
   "metadata": {
    "collapsed": false
   },
   "id": "a2e7dd10d9f2958e",
   "execution_count": null
  },
  {
   "cell_type": "code",
   "outputs": [],
   "source": [
    "results = []\n",
    "\n",
    "for i in range(len(datasets)):\n",
    "    df = datasets[i]\n",
    "    target_class = target_classes[i]\n",
    "    \n",
    "    how_many = (math.factorial(df.shape[1] - 1) * df[target_class].nunique()) \n",
    "    how_many_formatted = '{:,}'.format(how_many)\n",
    "    \n",
    "    print(f'Dataset: {datasets_name[i]}, Columns: {df.shape[1] - 1}, Classes: {df[target_class].nunique()}, Calculations: {how_many_formatted}')\n",
    "    \n",
    "    file_path = f'results/{datasets_name[i]}/{fs_used[i]}_results_{datasets_name[i]}_cols.json'\n",
    "    \n",
    "    print(target_class)\n",
    "    \n",
    "    start_time = time.time()\n",
    "    if fs_used[i] == 'FS1':\n",
    "        result = run_permutations(df,target_class,file_path,FS1)\n",
    "    elif fs_used[i] == 'FS2':\n",
    "        result = run_permutations(df,target_class,file_path,FS2)\n",
    "    else:\n",
    "        result = run_permutations(df,target_class,file_path,FS3)\n",
    "        \n",
    "    results.append(result)\n",
    "    \n",
    "    end_time = time.time()\n",
    "    elapsed_time = end_time - start_time \n",
    "    print(\"Elapsed time for FS2: {:.6f} seconds\".format(elapsed_time))"
   ],
   "metadata": {
    "collapsed": false
   },
   "id": "6bdc4870ff541670",
   "execution_count": null
  },
  {
   "cell_type": "code",
   "outputs": [],
   "source": [
    "datasets = [iris, seeds]\n",
    "datasets_name = ['iris', 'seeds']\n",
    "target_classes = ['class', 'class']\n",
    "fs_used = ['FS3', 'FS3']"
   ],
   "metadata": {
    "collapsed": false,
    "ExecuteTime": {
     "end_time": "2024-01-05T16:53:33.787798300Z",
     "start_time": "2024-01-05T16:53:33.778745900Z"
    }
   },
   "id": "68884ed66822ee0d",
   "execution_count": 4
  },
  {
   "cell_type": "code",
   "outputs": [],
   "source": [
    "results = []"
   ],
   "metadata": {
    "collapsed": false,
    "ExecuteTime": {
     "end_time": "2024-01-05T16:53:34.205197100Z",
     "start_time": "2024-01-05T16:53:34.195957300Z"
    }
   },
   "id": "6d5b417e47dcf707",
   "execution_count": 5
  },
  {
   "cell_type": "code",
   "outputs": [
    {
     "name": "stdout",
     "output_type": "stream",
     "text": [
      "Dataset: iris, Columns: 4, Classes: 3, Calculations: 72\n",
      "class\n",
      "Elapsed time for FS2: 0.204716 seconds\n",
      "Dataset: seeds, Columns: 7, Classes: 3, Calculations: 15,120\n",
      "class\n",
      "Elapsed time for FS2: 38.318788 seconds\n"
     ]
    }
   ],
   "source": [
    "for i in range(len(datasets)):\n",
    "    df = datasets[i]\n",
    "    target_class = target_classes[i]\n",
    "    \n",
    "    how_many = (math.factorial(df.shape[1] - 1) * df[target_class].nunique()) \n",
    "    how_many_formatted = '{:,}'.format(how_many)\n",
    "    \n",
    "    print(f'Dataset: {datasets_name[i]}, Columns: {df.shape[1] - 1}, Classes: {df[target_class].nunique()}, Calculations: {how_many_formatted}')\n",
    "    \n",
    "    file_path = f'results/{datasets_name[i]}/{fs_used[i]}_results_{datasets_name[i]}_cols.json'\n",
    "    \n",
    "    print(target_class)\n",
    "    \n",
    "    start_time = time.time()\n",
    "    if fs_used[i] == 'FS1':\n",
    "        result = run_permutations(df,target_class,file_path,FS1)\n",
    "    elif fs_used[i] == 'FS2':\n",
    "        result = run_permutations(df,target_class,file_path,FS2)\n",
    "    else:\n",
    "        result = run_permutations(df,target_class,file_path,FS3)\n",
    "        \n",
    "    results.append(result)\n",
    "    \n",
    "    end_time = time.time()\n",
    "    elapsed_time = end_time - start_time \n",
    "    print(\"Elapsed time for FS2: {:.6f} seconds\".format(elapsed_time))"
   ],
   "metadata": {
    "collapsed": false,
    "ExecuteTime": {
     "end_time": "2024-01-05T16:54:13.248755300Z",
     "start_time": "2024-01-05T16:53:34.728555700Z"
    }
   },
   "id": "ec3211a2fbb55efe",
   "execution_count": 6
  },
  {
   "cell_type": "code",
   "outputs": [],
   "source": [
    "result"
   ],
   "metadata": {
    "collapsed": false
   },
   "id": "aaf48979be5eda96",
   "execution_count": null
  }
 ],
 "metadata": {
  "kernelspec": {
   "display_name": "Python 3",
   "language": "python",
   "name": "python3"
  },
  "language_info": {
   "codemirror_mode": {
    "name": "ipython",
    "version": 2
   },
   "file_extension": ".py",
   "mimetype": "text/x-python",
   "name": "python",
   "nbconvert_exporter": "python",
   "pygments_lexer": "ipython2",
   "version": "2.7.6"
  }
 },
 "nbformat": 4,
 "nbformat_minor": 5
}
