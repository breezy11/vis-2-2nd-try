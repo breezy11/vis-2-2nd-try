{
 "cells": [
  {
   "cell_type": "code",
   "execution_count": null,
   "id": "initial_id",
   "metadata": {
    "collapsed": true
   },
   "outputs": [],
   "source": [
    "# imports\n",
    "\n",
    "from fs_functions import *\n",
    "from sklearn.preprocessing import LabelEncoder\n",
    "import time\n",
    "\n",
    "# bring in the label encoder, as the target classes have to be numeric\n",
    "label_encoder = LabelEncoder()"
   ]
  },
  {
   "cell_type": "code",
   "outputs": [],
   "source": [
    "# import the data sets, and do the label encoding of the target class\n",
    "\n",
    "datasets = []\n",
    "\n",
    "cars = pd.read_csv('data/cars/cars.csv', index_col=0)\n",
    "cars_year = pd.read_csv('data/cars_year/cars_year.csv', index_col=0)\n",
    "ecoli = pd.read_csv('data/ecoli/ecoli.csv', index_col=0)\n",
    "glass = pd.read_csv('data/glass/glass.csv', index_col=0)\n",
    "iris = pd.read_csv('data/iris/iris.csv', index_col=0)\n",
    "seeds = pd.read_csv('data/seeds/seeds.csv', index_col=0)\n",
    "\n",
    "iris['class'] = label_encoder.fit_transform(iris['class'])\n",
    "ecoli['class'] = label_encoder.fit_transform(ecoli['class'])\n",
    "\n",
    "# store the datasets, target classes in a list for automation\n",
    "datasets = [cars, cars_year, ecoli, glass, iris, seeds]\n",
    "datasets_name = ['cars', 'cars_year', 'ecoli', 'glass', 'iris', 'seeds']\n",
    "target_classes = ['origin', 'model year', 'class', 'Type of glass', 'class', 'class']"
   ],
   "metadata": {
    "collapsed": false
   },
   "id": "2e59a704c72290b6",
   "execution_count": null
  },
  {
   "cell_type": "code",
   "outputs": [],
   "source": [
    "# check many times will the functions have to be run for all feature signatures\n",
    "\n",
    "calculations = 0\n",
    "\n",
    "for i in range(len(datasets)):\n",
    "    df = datasets[i]\n",
    "    target_class = target_classes[i]\n",
    "    \n",
    "    how_many = (math.factorial(df.shape[1] - 1) * df[target_class].nunique()) * 3 \n",
    "    how_many_formatted = '{:,}'.format(how_many)\n",
    "    print(f'Dataset: {datasets_name[i]}, Columns: {df.shape[1] - 1}, Classes: {df[target_class].nunique()}, Calculations: {how_many_formatted}')\n",
    "    \n",
    "    calculations += how_many\n",
    "    \n",
    "print('Total calculations: ', '{:,}'.format(calculations))"
   ],
   "metadata": {
    "collapsed": false
   },
   "id": "4e11c621fb568180",
   "execution_count": null
  },
  {
   "cell_type": "markdown",
   "source": [
    "### Running the FS functions on all the data sets"
   ],
   "metadata": {
    "collapsed": false
   },
   "id": "156b8416ee16672d"
  },
  {
   "cell_type": "code",
   "outputs": [],
   "source": [
    "# datasets = [cars, cars_year, ecoli, glass, iris, seeds]\n",
    "# datasets_name = ['cars', 'cars_year', 'ecoli', 'glass', 'iris', 'seeds']\n",
    "# target_classes = ['origin', 'model year', 'class', 'Type of glass', 'class', 'class']\n",
    "\n",
    "datasets = [iris, cars, seeds]\n",
    "datasets_name = ['iris', 'cars', 'seeds']\n",
    "target_classes = ['class', 'origin', 'class']\n",
    "\n",
    "fs_used = ['FS1', 'FS2', 'FS3']"
   ],
   "metadata": {
    "collapsed": false
   },
   "id": "988704cabd010444",
   "execution_count": null
  },
  {
   "cell_type": "code",
   "outputs": [],
   "source": [
    "results = []\n",
    "\n",
    "for fs in fs_used:\n",
    "    for i in range(len(datasets)):\n",
    "        df = datasets[i]\n",
    "        target_class = target_classes[i]\n",
    "        \n",
    "        how_many = (math.factorial(df.shape[1] - 1) * df[target_class].nunique()) \n",
    "        how_many_formatted = '{:,}'.format(how_many)\n",
    "        \n",
    "        print(f'Dataset: {datasets_name[i]}, Columns: {df.shape[1] - 1}, Classes: {df[target_class].nunique()}, Calculations: {how_many_formatted}')\n",
    "        \n",
    "        file_path = f'results/{datasets_name[i]}/{fs}_results_{datasets_name[i]}_cols.json'\n",
    "        \n",
    "        print(target_class)\n",
    "        \n",
    "        start_time = time.time()\n",
    "        if fs == 'FS1':\n",
    "            result = run_permutations(df,target_class,file_path,FS1)\n",
    "        elif fs == 'FS2':\n",
    "            result = run_permutations(df,target_class,file_path,FS2)\n",
    "        else:\n",
    "            result = run_permutations(df,target_class,file_path,FS3)\n",
    "            \n",
    "        results.append(result)\n",
    "        \n",
    "        end_time = time.time()\n",
    "        elapsed_time = end_time - start_time \n",
    "        print(f'Elapsed time for {fs}: {round(elapsed_time, 2)}')"
   ],
   "metadata": {
    "collapsed": false
   },
   "id": "6bdc4870ff541670",
   "execution_count": null
  }
 ],
 "metadata": {
  "kernelspec": {
   "display_name": "Python 3",
   "language": "python",
   "name": "python3"
  },
  "language_info": {
   "codemirror_mode": {
    "name": "ipython",
    "version": 2
   },
   "file_extension": ".py",
   "mimetype": "text/x-python",
   "name": "python",
   "nbconvert_exporter": "python",
   "pygments_lexer": "ipython2",
   "version": "2.7.6"
  }
 },
 "nbformat": 4,
 "nbformat_minor": 5
}
